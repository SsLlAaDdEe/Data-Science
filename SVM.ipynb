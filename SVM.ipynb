{
 "cells": [
  {
   "cell_type": "code",
   "execution_count": 3,
   "metadata": {},
   "outputs": [],
   "source": [
    "import numpy as np"
   ]
  },
  {
   "cell_type": "code",
   "execution_count": 9,
   "metadata": {},
   "outputs": [
    {
     "name": "stdout",
     "output_type": "stream",
     "text": [
      "[[35.26]\n",
      " [22.35]\n",
      " [35.26]\n",
      " [27.74]\n",
      " [20.43]\n",
      " [27.74]\n",
      " [ 7.52]]\n"
     ]
    }
   ],
   "source": [
    "MA = np.array([[1, 1, 1], [1, 1, 0], [1, 1, 1], [0, 1, 1], [1, 0, 1], [0, 1, 1], [1, 0, 0]])\n",
    "MB = np.array([[7.52], [14.83], [12.91]])\n",
    "\n",
    "prod = np.dot(MA, MB)\n",
    "print(prod)"
   ]
  },
  {
   "cell_type": "code",
   "execution_count": null,
   "metadata": {},
   "outputs": [],
   "source": []
  }
 ],
 "metadata": {
  "kernelspec": {
   "display_name": "Python 3",
   "language": "python",
   "name": "python3"
  },
  "language_info": {
   "codemirror_mode": {
    "name": "ipython",
    "version": 3
   },
   "file_extension": ".py",
   "mimetype": "text/x-python",
   "name": "python",
   "nbconvert_exporter": "python",
   "pygments_lexer": "ipython3",
   "version": "3.12.3"
  }
 },
 "nbformat": 4,
 "nbformat_minor": 2
}
